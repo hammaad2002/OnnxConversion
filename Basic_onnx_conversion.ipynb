{
  "nbformat": 4,
  "nbformat_minor": 0,
  "metadata": {
    "colab": {
      "provenance": [],
      "authorship_tag": "ABX9TyPGeQfeOrCMLI9d4LPg+Srq",
      "include_colab_link": true
    },
    "kernelspec": {
      "name": "python3",
      "display_name": "Python 3"
    },
    "language_info": {
      "name": "python"
    }
  },
  "cells": [
    {
      "cell_type": "markdown",
      "metadata": {
        "id": "view-in-github",
        "colab_type": "text"
      },
      "source": [
        "<a href=\"https://colab.research.google.com/github/hammaad2002/OnnxConversion/blob/main/Basic_onnx_conversion.ipynb\" target=\"_parent\"><img src=\"https://colab.research.google.com/assets/colab-badge.svg\" alt=\"Open In Colab\"/></a>"
      ]
    },
    {
      "cell_type": "code",
      "source": [
        "%%capture\n",
        "!pip install onnx\n",
        "!pip install onnxruntime"
      ],
      "metadata": {
        "id": "q7c9FySKLmdJ"
      },
      "execution_count": 1,
      "outputs": []
    },
    {
      "cell_type": "code",
      "execution_count": 3,
      "metadata": {
        "id": "7J-y8NnELg2w"
      },
      "outputs": [],
      "source": [
        "import torch\n",
        "import torch.nn as nn\n",
        "import torch.onnx\n",
        "\n",
        "class MyModel(nn.Module):\n",
        "    def __init__(self):\n",
        "        super(MyModel, self).__init__()\n",
        "        self.fc1 = nn.Linear(10, 10)\n",
        "        self.fc2 = nn.Linear(10, 20)\n",
        "\n",
        "    def forward(self, x):\n",
        "        return self.fc2(self.fc1(x))\n",
        "\n",
        "# Create a model instance\n",
        "model = MyModel()\n",
        "\n",
        "# Dummy input\n",
        "x = torch.randn(1, 10)\n",
        "\n",
        "# Export the scripted model to ONNX\n",
        "torch.onnx.export(model, x, \"model.onnx\", opset_version=11)"
      ]
    },
    {
      "cell_type": "code",
      "source": [
        "import onnxruntime as ort\n",
        "import numpy as np\n",
        "\n",
        "# Create onnxruntime session and load the model into it\n",
        "runtime_session = ort.InferenceSession('model.onnx')\n",
        "\n",
        "# Generate a random input tensor\n",
        "input_data = np.random.rand(1, 10).astype(np.float32)\n",
        "\n",
        "# Run the model\n",
        "output = runtime_session.run(output_names=None, input_feed={\"onnx::Gemm_0\": input_data})\n",
        "\n",
        "# Print the output\n",
        "print(output)"
      ],
      "metadata": {
        "colab": {
          "base_uri": "https://localhost:8080/"
        },
        "id": "7-NdcDmpL1S5",
        "outputId": "25c354d7-9831-4532-c2e1-c599fcc2f89c"
      },
      "execution_count": 5,
      "outputs": [
        {
          "output_type": "stream",
          "name": "stdout",
          "text": [
            "[array([[ 0.07034718,  0.30189145,  0.26156268,  0.01467963,  0.00422321,\n",
            "        -0.23873465,  0.01679359,  0.41686043, -0.38350943, -0.05296794,\n",
            "        -0.31918228, -0.2917829 ,  0.46410498, -0.11668828, -0.24884394,\n",
            "        -0.06768475,  0.30973604,  0.4218831 ,  0.36853868, -0.28102872]],\n",
            "      dtype=float32)]\n"
          ]
        }
      ]
    },
    {
      "cell_type": "code",
      "source": [
        "print(output[0].shape)"
      ],
      "metadata": {
        "colab": {
          "base_uri": "https://localhost:8080/"
        },
        "id": "MlOq0HQ5L_bl",
        "outputId": "c8b6a558-d31e-42de-b19d-22c579054c71"
      },
      "execution_count": 7,
      "outputs": [
        {
          "output_type": "stream",
          "name": "stdout",
          "text": [
            "(1, 20)\n"
          ]
        }
      ]
    }
  ]
}